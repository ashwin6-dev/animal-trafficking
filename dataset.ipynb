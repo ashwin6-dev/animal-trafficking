{
 "cells": [
  {
   "cell_type": "code",
   "execution_count": 1,
   "metadata": {},
   "outputs": [],
   "source": [
    "import sqlite3\n",
    "import pandas as pd"
   ]
  },
  {
   "cell_type": "code",
   "execution_count": 2,
   "metadata": {},
   "outputs": [
    {
     "name": "stdout",
     "output_type": "stream",
     "text": [
      "[('Media',), ('ProfileActivity',), ('ActivityMedia',), ('ProfileConnection',), ('Profiles',), ('Activity',)]\n"
     ]
    }
   ],
   "source": [
    "# Connect to the SQLite database\n",
    "conn = sqlite3.connect('social_network_anonymized.db')\n",
    "\n",
    "cursor = conn.cursor()\n",
    "cursor.execute(\"SELECT name FROM sqlite_master WHERE type='table';\")\n",
    "table_name = cursor.fetchall()\n",
    "\n",
    "print (table_name)\n",
    "\n",
    "# Read the entire database into a pandas DataFrame\n",
    "media = pd.read_sql_query(f\"SELECT * FROM Media\", conn)\n",
    "profile_activity = pd.read_sql_query(f\"SELECT * FROM ProfileActivity\", conn)\n",
    "activity_media = pd.read_sql_query(f\"SELECT * FROM ActivityMedia\", conn)\n",
    "profile_connection = pd.read_sql_query(f\"SELECT * FROM ProfileConnection\", conn)\n",
    "profiles = pd.read_sql_query(f\"SELECT * FROM Profiles\", conn)\n",
    "activity = pd.read_sql_query(f\"SELECT * FROM Activity\", conn)\n",
    "\n",
    "# Close the connection\n",
    "conn.close()"
   ]
  },
  {
   "cell_type": "code",
   "execution_count": null,
   "metadata": {},
   "outputs": [],
   "source": [
    "def pair_profile_activities(profile_activity_df, profile_df):\n",
    "    sources = profile_activity_df[profile_activity_df.relationship_type == \"source\"]\n",
    "    targets = profile_activity_df[profile_activity_df.relationship_type == \"target\"]\n",
    "\n",
    "    sources = pd.merge(\n",
    "        sources,\n",
    "        profile_df,\n",
    "        left_on=\"profile_id\",\n",
    "        right_on=\"id\"\n",
    "    )\n",
    "\n",
    "    targets = pd.merge(\n",
    "        targets,\n",
    "        profile_df,\n",
    "        left_on=\"profile_id\",\n",
    "        right_on=\"id\"\n",
    "    )\n",
    "\n",
    "    merged = pd.merge(\n",
    "        sources,\n",
    "        targets,\n",
    "        on=\"activity_id\",\n",
    "        suffixes=(\"_source\", \"_target\")\n",
    "    )\n",
    "\n",
    "    return merged\n",
    "\n",
    "def merge_activities(df, activity_df, left_on):\n",
    "    return pd.merge(\n",
    "        df,\n",
    "        activity_df,\n",
    "        left_on=left_on,\n",
    "        right_on=\"id\"\n",
    "    )"
   ]
  },
  {
   "cell_type": "code",
   "execution_count": null,
   "metadata": {},
   "outputs": [],
   "source": [
    "profile_pairs = pair_profile_activities(profile_activity, profiles)\n",
    "profile_pairs_activity = merge_activities(profile_pairs, activity, left_on=\"activity_id\")"
   ]
  },
  {
   "cell_type": "code",
   "execution_count": null,
   "metadata": {},
   "outputs": [
    {
     "data": {
      "text/plain": [
       "Index(['id_x_source', 'profile_id_source', 'activity_id',\n",
       "       'relationship_type_source', 'id_y_source', 'name_source',\n",
       "       'profile_type_source', 'platform_source', 'platform_id_source',\n",
       "       'profile_url_source', 'region_source', 'id_x_target',\n",
       "       'profile_id_target', 'relationship_type_target', 'id_y_target',\n",
       "       'name_target', 'profile_type_target', 'platform_target',\n",
       "       'platform_id_target', 'profile_url_target', 'region_target', 'id',\n",
       "       'type', 'timestamp', 'content', 'description', 'platform'],\n",
       "      dtype='object')"
      ]
     },
     "execution_count": 43,
     "metadata": {},
     "output_type": "execute_result"
    }
   ],
   "source": [
    "profile_pairs_activity.columns"
   ]
  },
  {
   "cell_type": "code",
   "execution_count": null,
   "metadata": {},
   "outputs": [],
   "source": []
  },
  {
   "cell_type": "code",
   "execution_count": null,
   "metadata": {},
   "outputs": [],
   "source": []
  }
 ],
 "metadata": {
  "kernelspec": {
   "display_name": "Python 3",
   "language": "python",
   "name": "python3"
  },
  "language_info": {
   "codemirror_mode": {
    "name": "ipython",
    "version": 3
   },
   "file_extension": ".py",
   "mimetype": "text/x-python",
   "name": "python",
   "nbconvert_exporter": "python",
   "pygments_lexer": "ipython3",
   "version": "3.13.2"
  }
 },
 "nbformat": 4,
 "nbformat_minor": 2
}
