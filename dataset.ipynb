{
 "cells": [
  {
   "cell_type": "code",
   "execution_count": 1,
   "metadata": {},
   "outputs": [],
   "source": [
    "import sqlite3\n",
    "import pandas as pd\n",
    "import networkx"
   ]
  },
  {
   "cell_type": "code",
   "execution_count": 2,
   "metadata": {},
   "outputs": [
    {
     "name": "stdout",
     "output_type": "stream",
     "text": [
      "[('Media',), ('ProfileActivity',), ('ActivityMedia',), ('ProfileConnection',), ('Profiles',), ('Activity',)]\n"
     ]
    }
   ],
   "source": [
    "# Connect to the SQLite database\n",
    "conn = sqlite3.connect('social_network_anonymized.db')\n",
    "\n",
    "cursor = conn.cursor()\n",
    "cursor.execute(\"SELECT name FROM sqlite_master WHERE type='table';\")\n",
    "table_name = cursor.fetchall()\n",
    "\n",
    "print (table_name)\n",
    "\n",
    "# Read the entire database into a pandas DataFrame\n",
    "media = pd.read_sql_query(f\"SELECT * FROM Media\", conn)\n",
    "profile_activity = pd.read_sql_query(f\"SELECT * FROM ProfileActivity\", conn)\n",
    "activity_media = pd.read_sql_query(f\"SELECT * FROM ActivityMedia\", conn)\n",
    "profile_connection = pd.read_sql_query(f\"SELECT * FROM ProfileConnection\", conn)\n",
    "profiles = pd.read_sql_query(f\"SELECT * FROM Profiles\", conn)\n",
    "activity = pd.read_sql_query(f\"SELECT * FROM Activity\", conn)\n",
    "\n",
    "# Close the connection\n",
    "conn.close()"
   ]
  },
  {
   "cell_type": "code",
   "execution_count": 3,
   "metadata": {},
   "outputs": [],
   "source": [
    "def pair_profile_activities(profile_activity_df, profile_df):\n",
    "    sources = profile_activity_df[profile_activity_df.relationship_type == \"source\"]\n",
    "    targets = profile_activity_df[profile_activity_df.relationship_type == \"target\"]\n",
    "\n",
    "    sources = pd.merge(\n",
    "        sources,\n",
    "        profile_df,\n",
    "        left_on=\"profile_id\",\n",
    "        right_on=\"id\"\n",
    "    )\n",
    "\n",
    "    targets = pd.merge(\n",
    "        targets,\n",
    "        profile_df,\n",
    "        left_on=\"profile_id\",\n",
    "        right_on=\"id\"\n",
    "    )\n",
    "\n",
    "    merged = pd.merge(\n",
    "        sources,\n",
    "        targets,\n",
    "        on=\"activity_id\",\n",
    "        suffixes=(\"_source\", \"_target\")\n",
    "    )\n",
    "\n",
    "    return merged\n",
    "\n",
    "def merge_activities(df, activity_df, left_on):\n",
    "    return pd.merge(\n",
    "        df,\n",
    "        activity_df,\n",
    "        left_on=left_on,\n",
    "        right_on=\"id\"\n",
    "    )"
   ]
  },
  {
   "cell_type": "code",
   "execution_count": 4,
   "metadata": {},
   "outputs": [],
   "source": [
    "profile_pairs = pair_profile_activities(profile_activity, profiles)\n",
    "profile_pairs_activity = merge_activities(profile_pairs, activity, left_on=\"activity_id\")"
   ]
  },
  {
   "cell_type": "code",
   "execution_count": 5,
   "metadata": {},
   "outputs": [],
   "source": [
    "import networkx as nx\n",
    "import matplotlib.pyplot as plt\n",
    "\n",
    "G = nx.from_pandas_edgelist(profile_pairs_activity, \n",
    "                            source='profile_id_source', \n",
    "                            target='profile_id_target')"
   ]
  },
  {
   "cell_type": "code",
   "execution_count": 16,
   "metadata": {},
   "outputs": [
    {
     "data": {
      "text/plain": [
       "(18677, 17216)"
      ]
     },
     "execution_count": 16,
     "metadata": {},
     "output_type": "execute_result"
    }
   ],
   "source": [
    "G.number_of_edges(), G.number_of_nodes()"
   ]
  },
  {
   "cell_type": "code",
   "execution_count": null,
   "metadata": {},
   "outputs": [
    {
     "data": {
      "text/html": [
       "\n",
       "            <iframe id=\"93a08a0c-6b1a-4c19-adee-340a3f3db3ee\" src=\"https://hub.graphistry.com/graph/graph.html?dataset=be473645df9d4728856da8fd1eb07380&type=arrow&viztoken=9d76eb41-e2aa-4d1f-8a44-54fe63e311d2&usertag=c394722e-pygraphistry-0.36.0&splashAfter=1741351912&info=true\"\n",
       "                    allowfullscreen=\"true\" webkitallowfullscreen=\"true\" mozallowfullscreen=\"true\"\n",
       "                    oallowfullscreen=\"true\" msallowfullscreen=\"true\"\n",
       "                    style=\"width:100%; height:500px; border: 1px solid #DDD; overflow: hidden\"\n",
       "                    \n",
       "            >\n",
       "            </iframe>\n",
       "        \n",
       "            <script>\n",
       "                try {\n",
       "                  $(\"#93a08a0c-6b1a-4c19-adee-340a3f3db3ee\").bind('mousewheel', function(e) { e.preventDefault(); });\n",
       "                } catch (e) { console.error('exn catching scroll', e); }\n",
       "            </script>\n",
       "        "
      ],
      "text/plain": [
       "<IPython.core.display.HTML object>"
      ]
     },
     "execution_count": 6,
     "metadata": {},
     "output_type": "execute_result"
    }
   ],
   "source": [
    "import graphistry\n",
    "\n",
    "graphistry.register(api=3, protocol=\"https\", server='hub.graphistry.com', personal_key_id='PFMM2XISJ1', personal_key_secret='VL97ANQ8KN1WJ17Z')\n",
    "\n",
    "g = graphistry.edges(profile_pairs_activity[:100]) \\\n",
    "    .bind(source=\"profile_id_source\", \n",
    "          destination=\"profile_id_target\")\n",
    "\n",
    "g.plot()"
   ]
  },
  {
   "cell_type": "code",
   "execution_count": null,
   "metadata": {},
   "outputs": [],
   "source": []
  }
 ],
 "metadata": {
  "kernelspec": {
   "display_name": "Python 3",
   "language": "python",
   "name": "python3"
  },
  "language_info": {
   "codemirror_mode": {
    "name": "ipython",
    "version": 3
   },
   "file_extension": ".py",
   "mimetype": "text/x-python",
   "name": "python",
   "nbconvert_exporter": "python",
   "pygments_lexer": "ipython3",
   "version": "3.13.2"
  }
 },
 "nbformat": 4,
 "nbformat_minor": 2
}
